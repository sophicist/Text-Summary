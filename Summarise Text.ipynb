{
 "cells": [
  {
   "cell_type": "code",
   "execution_count": 6,
   "metadata": {
    "ExecuteTime": {
     "end_time": "2020-07-14T09:38:09.023230Z",
     "start_time": "2020-07-14T09:38:09.018232Z"
    }
   },
   "outputs": [],
   "source": [
    "from nltk.corpus import stopwords\n",
    "#from nltk.cluster.util import cosine_distance\n",
    "import numpy as np\n",
    "import networkx as nx\n",
    "from scipy import spatial"
   ]
  },
  {
   "cell_type": "markdown",
   "metadata": {},
   "source": [
    "# Summarise text using functions"
   ]
  },
  {
   "cell_type": "code",
   "execution_count": 4,
   "metadata": {
    "ExecuteTime": {
     "end_time": "2020-07-14T09:37:53.580326Z",
     "start_time": "2020-07-14T09:37:53.562336Z"
    }
   },
   "outputs": [],
   "source": [
    "def read_article(file_name):\n",
    "    #file = open(file_name, \"r\")\n",
    "    #filedata = file.readlines()\n",
    "    article = file_name.split(\". \")\n",
    "    sentences = []\n",
    "\n",
    "    for sentence in article:\n",
    "        #print(sentence)\n",
    "        sentences.append(sentence.replace(\"[^a-zA-Z]\", \" \").split(\" \"))\n",
    "    sentences.pop() \n",
    "    \n",
    "    return sentences\n",
    "\n",
    "def sentence_similarity(sent1, sent2, stopwords=None):\n",
    "    if stopwords is None:\n",
    "        stopwords = []\n",
    " \n",
    "    sent1 = [w.lower() for w in sent1]\n",
    "    sent2 = [w.lower() for w in sent2]\n",
    " \n",
    "    all_words = list(set(sent1 + sent2))\n",
    " \n",
    "    vector1 = [0] * len(all_words)\n",
    "    vector2 = [0] * len(all_words)\n",
    " \n",
    "    # build the vector for the first sentence\n",
    "    for w in sent1:\n",
    "        if w in stopwords:\n",
    "            continue\n",
    "        vector1[all_words.index(w)] += 1\n",
    " \n",
    "    # build the vector for the second sentence\n",
    "    for w in sent2:\n",
    "        if w in stopwords:\n",
    "            continue\n",
    "        vector2[all_words.index(w)] += 1\n",
    " \n",
    "    return 1 - spatial.distance.cosine(vector1, vector2)\n",
    " \n",
    "def build_similarity_matrix(sentences, stop_words):\n",
    "    # Create an empty similarity matrix\n",
    "    similarity_matrix = np.zeros((len(sentences), len(sentences)))\n",
    " \n",
    "    for idx1 in range(len(sentences)):\n",
    "        for idx2 in range(len(sentences)):\n",
    "            if idx1 == idx2: #ignore if both are same sentences\n",
    "                continue \n",
    "            similarity_matrix[idx1][idx2] = sentence_similarity(sentences[idx1], sentences[idx2], stop_words)\n",
    "\n",
    "    return similarity_matrix\n",
    "\n",
    "\n",
    "def generate_summary(file_name, top_n=5):\n",
    "    stop_words = stopwords.words('english')\n",
    "    summarize_text = []\n",
    "    fin = []\n",
    "\n",
    "    # Step 1 - Read text anc split it\n",
    "    sentences =  read_article(file_name)\n",
    "\n",
    "    # Step 2 - Generate Similary Martix across sentences\n",
    "    sentence_similarity_martix = build_similarity_matrix(sentences, stop_words)\n",
    "\n",
    "    # Step 3 - Rank sentences in similarity martix\n",
    "    sentence_similarity_graph = nx.from_numpy_array(sentence_similarity_martix)\n",
    "    scores = nx.pagerank(sentence_similarity_graph)\n",
    "\n",
    "    # Step 4 - Sort the rank and pick top sentences\n",
    "    ranked_sentence = sorted(((scores[i],s) for i,s in enumerate(sentences)), reverse=True)    \n",
    "    #print(\"Indexes of top ranked_sentence order are \", ranked_sentence)    \n",
    "\n",
    "    for i in range(top_n):\n",
    "      summarize_text.append(\" \".join(ranked_sentence[i][1]))\n",
    "\n",
    "    # Step 5 - Offcourse, output the summarize texr\n",
    "    print(\"Summarize Text: \\n\", \". \".join(summarize_text))\n",
    "    return summarize_text\n",
    "\n",
    "# let's begin\n",
    "\n"
   ]
  },
  {
   "cell_type": "markdown",
   "metadata": {},
   "source": [
    "# Test the Summary on read text"
   ]
  },
  {
   "cell_type": "code",
   "execution_count": 5,
   "metadata": {
    "ExecuteTime": {
     "end_time": "2020-07-14T09:37:56.032349Z",
     "start_time": "2020-07-14T09:37:55.933685Z"
    }
   },
   "outputs": [
    {
     "name": "stdout",
     "output_type": "stream",
     "text": [
      "Summarize Text: \n",
      " Jackson began his solo career in 1971 while at Motown Records, and rose to \n",
      "solo stardom with his fifth studio album Off the Wall (1979) during the peak of the disco era.\n",
      "By the early 1980s, Jackson became a dominant figure in popular music. \n",
      "Jackson's contributions to music, dance, and fashion, along with his publicized personal life,\n",
      "made him a global figure in popular culture for over four decades.\n",
      "\n",
      "The eighth child of the Jackson family, Jackson made his professional debut \n",
      "in 1964 with his elder brothers Jackie, Tito, Jermaine, and Marlon as a member \n",
      "of the Jackson 5\n"
     ]
    }
   ],
   "source": [
    "\n",
    "text = \"\"\"Michael Joseph Jackson (August 29, 1958 – June 25, 2009) was an American singer, songwriter,\n",
    "and dancer. Dubbed the \"King of Pop\", he is regarded as one of the most significant cultural figures \n",
    "of the 20th century and one of the greatest entertainers in the history of music. Through stage and\n",
    "video performances, he popularized complicated dance techniques such as the moonwalk, \n",
    "to which he gave the name. His sound and style have influenced artists of various genres. \n",
    "Jackson's contributions to music, dance, and fashion, along with his publicized personal life,\n",
    "made him a global figure in popular culture for over four decades.\n",
    "\n",
    "The eighth child of the Jackson family, Jackson made his professional debut \n",
    "in 1964 with his elder brothers Jackie, Tito, Jermaine, and Marlon as a member \n",
    "of the Jackson 5. Jackson began his solo career in 1971 while at Motown Records, and rose to \n",
    "solo stardom with his fifth studio album Off the Wall (1979) during the peak of the disco era.\n",
    "By the early 1980s, Jackson became a dominant figure in popular music. His music videos,\n",
    "including those for \"Beat It\", \"Billie Jean\", and \"Thriller\" from his sixth studio\n",
    "album Thriller (1982), are credited with breaking racial barriers and transforming\n",
    "the medium into an art form and promotional tool. Jackson's prominence propelled him \n",
    "and the television channel MTV into cultural phenomenons of 1980s pop culture.\n",
    "At the 1984 Grammy Awards, Thriller won a record-breaking eight Grammy Awards, \n",
    "including Album of the Year. Jackson continued to innovate with videos \n",
    "on the global best-selling albums Bad (1987), Dangerous (1991) and HIStory: Past, \n",
    "Present and Future, Book I (1995). With songs such as \"Man in the Mirror\",\n",
    "\"Black or White\", \"Heal the World\", \"Earth Song\" and \"They Don't Care About Us\",\n",
    "Jackson's later music emphasized racial integration,\n",
    "environmentalism and fighting against prejudice and injustice.\"\"\"\n",
    "#read_article(text)\n",
    "# The two is the number of sentences desired\n",
    "summarised_michael_jackson_text = generate_summary( text, 2)"
   ]
  },
  {
   "cell_type": "code",
   "execution_count": 7,
   "metadata": {
    "ExecuteTime": {
     "end_time": "2020-07-14T09:38:32.707576Z",
     "start_time": "2020-07-14T09:38:32.567656Z"
    }
   },
   "outputs": [
    {
     "name": "stderr",
     "output_type": "stream",
     "text": [
      "warning: LF will be replaced by CRLF in Summarise Text.ipynb.\n",
      "The file will have its original line endings in your working directory\n"
     ]
    }
   ],
   "source": [
    "!git add ."
   ]
  },
  {
   "cell_type": "code",
   "execution_count": 8,
   "metadata": {
    "ExecuteTime": {
     "end_time": "2020-07-14T09:38:42.367118Z",
     "start_time": "2020-07-14T09:38:42.359125Z"
    }
   },
   "outputs": [
    {
     "ename": "SyntaxError",
     "evalue": "invalid syntax (<ipython-input-8-e224b1463e00>, line 1)",
     "output_type": "error",
     "traceback": [
      "\u001b[1;36m  File \u001b[1;32m\"<ipython-input-8-e224b1463e00>\"\u001b[1;36m, line \u001b[1;32m1\u001b[0m\n\u001b[1;33m    git commit -m \"New Data\"\u001b[0m\n\u001b[1;37m             ^\u001b[0m\n\u001b[1;31mSyntaxError\u001b[0m\u001b[1;31m:\u001b[0m invalid syntax\n"
     ]
    }
   ],
   "source": []
  },
  {
   "cell_type": "code",
   "execution_count": null,
   "metadata": {},
   "outputs": [],
   "source": []
  }
 ],
 "metadata": {
  "kernelspec": {
   "display_name": "Python 3",
   "language": "python",
   "name": "python3"
  },
  "language_info": {
   "codemirror_mode": {
    "name": "ipython",
    "version": 3
   },
   "file_extension": ".py",
   "mimetype": "text/x-python",
   "name": "python",
   "nbconvert_exporter": "python",
   "pygments_lexer": "ipython3",
   "version": "3.7.0"
  },
  "latex_envs": {
   "LaTeX_envs_menu_present": true,
   "autoclose": false,
   "autocomplete": true,
   "bibliofile": "biblio.bib",
   "cite_by": "apalike",
   "current_citInitial": 1,
   "eqLabelWithNumbers": true,
   "eqNumInitial": 1,
   "hotkeys": {
    "equation": "Ctrl-E",
    "itemize": "Ctrl-I"
   },
   "labels_anchors": false,
   "latex_user_defs": false,
   "report_style_numbering": false,
   "user_envs_cfg": false
  },
  "toc": {
   "base_numbering": 1,
   "nav_menu": {},
   "number_sections": true,
   "sideBar": true,
   "skip_h1_title": false,
   "title_cell": "Table of Contents",
   "title_sidebar": "Contents",
   "toc_cell": false,
   "toc_position": {},
   "toc_section_display": true,
   "toc_window_display": false
  }
 },
 "nbformat": 4,
 "nbformat_minor": 2
}
